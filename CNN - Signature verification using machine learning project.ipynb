{
 "cells": [
  {
   "cell_type": "markdown",
   "id": "4845bd1d",
   "metadata": {},
   "source": [
    "# Importing Libraries and modules\n"
   ]
  },
  {
   "cell_type": "code",
   "execution_count": 1,
   "id": "49cccdd4",
   "metadata": {},
   "outputs": [],
   "source": [
    "import os\n",
    "import numpy as np\n",
    "import pandas as pd\n",
    "import matplotlib.pyplot as plt\n",
    "import re\n",
    "from skimage import io, transform\n",
    "from sklearn.model_selection import train_test_split\n",
    "from tensorflow.keras.models import Sequential\n",
    "from tensorflow.keras.layers import Conv2D, MaxPooling2D, Flatten, Dense, Dropout\n",
    "from tensorflow.keras.optimizers import Adam"
   ]
  },
  {
   "cell_type": "markdown",
   "id": "8197d77d",
   "metadata": {},
   "source": [
    "# Define path of signatures"
   ]
  },
  {
   "cell_type": "code",
   "execution_count": 2,
   "id": "ad3a4ad5",
   "metadata": {},
   "outputs": [],
   "source": [
    "genuine_image_path = \"C:\\\\Users\\\\Vikesh\\\\Desktop\\\\Dataset2\\\\real/\"\n",
    "forged_image_path = \"C:\\\\Users\\\\Vikesh\\\\Desktop\\\\Dataset2\\\\forged/\""
   ]
  },
  {
   "cell_type": "markdown",
   "id": "fa572e69",
   "metadata": {},
   "source": [
    "# Preprocessing the image"
   ]
  },
  {
   "cell_type": "code",
   "execution_count": 3,
   "id": "e7677cf8",
   "metadata": {},
   "outputs": [],
   "source": [
    "def load_images(genuine_path, forged_path):\n",
    "    data = []\n",
    "    labels = []\n",
    "\n",
    "    for file in os.listdir(genuine_path):\n",
    "        if file.endswith(\".png\"):\n",
    "            img = io.imread(os.path.join(genuine_path, file), as_gray=True)\n",
    "            img = transform.resize(img, (128, 128))\n",
    "            data.append(img)\n",
    "            labels.append(1)\n",
    "\n",
    "    for file in os.listdir(forged_path):\n",
    "        if file.endswith(\".png\"):\n",
    "            img = io.imread(os.path.join(forged_path, file), as_gray=True)\n",
    "            img = transform.resize(img, (128, 128))\n",
    "            data.append(img)\n",
    "            labels.append(0)\n",
    "\n",
    "    data = np.array(data)\n",
    "    data = data.reshape((data.shape[0], 128, 128, 1))\n",
    "    labels = np.array(labels)\n",
    "\n",
    "    return data, labels"
   ]
  },
  {
   "cell_type": "markdown",
   "id": "8c45d5a7",
   "metadata": {},
   "source": [
    "## Define the CNN model"
   ]
  },
  {
   "cell_type": "code",
   "execution_count": 4,
   "id": "4eb0d201",
   "metadata": {
    "scrolled": true
   },
   "outputs": [],
   "source": [
    "data, labels = load_images(genuine_image_path, forged_image_path)\n",
    "X_train, X_test, y_train, y_test = train_test_split(data, labels, test_size=0.2, random_state=42)\n",
    "\n",
    "model = Sequential([\n",
    "    Conv2D(32, kernel_size=(3, 3), activation='relu', input_shape=(128, 128, 1)),\n",
    "    MaxPooling2D(pool_size=(2, 2)),\n",
    "    Conv2D(64, kernel_size=(3, 3), activation='relu'),\n",
    "    MaxPooling2D(pool_size=(2, 2)),\n",
    "    Flatten(),\n",
    "    Dense(128, activation='relu'),\n",
    "    Dropout(0.5),\n",
    "    Dense(1, activation='sigmoid')\n",
    "])\n",
    "\n",
    "# compile the model\n",
    "model.compile(optimizer='adam', loss='binary_crossentropy', metrics=['accuracy'])"
   ]
  },
  {
   "cell_type": "markdown",
   "id": "54c65068",
   "metadata": {},
   "source": [
    "# Train the model"
   ]
  },
  {
   "cell_type": "code",
   "execution_count": 5,
   "id": "cfcb654f",
   "metadata": {},
   "outputs": [
    {
     "name": "stdout",
     "output_type": "stream",
     "text": [
      "Epoch 1/30\n",
      "5/5 [==============================] - 3s 376ms/step - loss: 1.0658 - accuracy: 0.4750 - val_loss: 0.6928 - val_accuracy: 0.4750\n",
      "Epoch 2/30\n",
      "5/5 [==============================] - 2s 323ms/step - loss: 0.7197 - accuracy: 0.4187 - val_loss: 0.6937 - val_accuracy: 0.5250\n",
      "Epoch 3/30\n",
      "5/5 [==============================] - 2s 322ms/step - loss: 0.6995 - accuracy: 0.5125 - val_loss: 0.6926 - val_accuracy: 0.5250\n",
      "Epoch 4/30\n",
      "5/5 [==============================] - 2s 323ms/step - loss: 0.6984 - accuracy: 0.4187 - val_loss: 0.6941 - val_accuracy: 0.4750\n",
      "Epoch 5/30\n",
      "5/5 [==============================] - 2s 320ms/step - loss: 0.6931 - accuracy: 0.5312 - val_loss: 0.6923 - val_accuracy: 0.5250\n",
      "Epoch 6/30\n",
      "5/5 [==============================] - 2s 323ms/step - loss: 0.6918 - accuracy: 0.5063 - val_loss: 0.6925 - val_accuracy: 0.5250\n",
      "Epoch 7/30\n",
      "5/5 [==============================] - 2s 322ms/step - loss: 0.7006 - accuracy: 0.4812 - val_loss: 0.6928 - val_accuracy: 0.5000\n",
      "Epoch 8/30\n",
      "5/5 [==============================] - 2s 322ms/step - loss: 0.6925 - accuracy: 0.5250 - val_loss: 0.6930 - val_accuracy: 0.5000\n",
      "Epoch 9/30\n",
      "5/5 [==============================] - 2s 332ms/step - loss: 0.6919 - accuracy: 0.5500 - val_loss: 0.6919 - val_accuracy: 0.5000\n",
      "Epoch 10/30\n",
      "5/5 [==============================] - 2s 322ms/step - loss: 0.6873 - accuracy: 0.5813 - val_loss: 0.6896 - val_accuracy: 0.5250\n",
      "Epoch 11/30\n",
      "5/5 [==============================] - 2s 324ms/step - loss: 0.6757 - accuracy: 0.6375 - val_loss: 0.6847 - val_accuracy: 0.5250\n",
      "Epoch 12/30\n",
      "5/5 [==============================] - 2s 325ms/step - loss: 0.6559 - accuracy: 0.6438 - val_loss: 0.6826 - val_accuracy: 0.5750\n",
      "Epoch 13/30\n",
      "5/5 [==============================] - 2s 322ms/step - loss: 0.6235 - accuracy: 0.7188 - val_loss: 0.6816 - val_accuracy: 0.5250\n",
      "Epoch 14/30\n",
      "5/5 [==============================] - 2s 326ms/step - loss: 0.6033 - accuracy: 0.7688 - val_loss: 0.6768 - val_accuracy: 0.6250\n",
      "Epoch 15/30\n",
      "5/5 [==============================] - 2s 328ms/step - loss: 0.5437 - accuracy: 0.7875 - val_loss: 0.6899 - val_accuracy: 0.5500\n",
      "Epoch 16/30\n",
      "5/5 [==============================] - 2s 325ms/step - loss: 0.4965 - accuracy: 0.8188 - val_loss: 0.7210 - val_accuracy: 0.5250\n",
      "Epoch 17/30\n",
      "5/5 [==============================] - 2s 323ms/step - loss: 0.4427 - accuracy: 0.8125 - val_loss: 0.6903 - val_accuracy: 0.6750\n",
      "Epoch 18/30\n",
      "5/5 [==============================] - 2s 323ms/step - loss: 0.4110 - accuracy: 0.8375 - val_loss: 0.7633 - val_accuracy: 0.6250\n",
      "Epoch 19/30\n",
      "5/5 [==============================] - 2s 337ms/step - loss: 0.3749 - accuracy: 0.8250 - val_loss: 0.7262 - val_accuracy: 0.6250\n",
      "Epoch 20/30\n",
      "5/5 [==============================] - 2s 345ms/step - loss: 0.2851 - accuracy: 0.9312 - val_loss: 0.7051 - val_accuracy: 0.6750\n",
      "Epoch 21/30\n",
      "5/5 [==============================] - 2s 328ms/step - loss: 0.3826 - accuracy: 0.8687 - val_loss: 0.7341 - val_accuracy: 0.5750\n",
      "Epoch 22/30\n",
      "5/5 [==============================] - 2s 325ms/step - loss: 0.3832 - accuracy: 0.9000 - val_loss: 0.6922 - val_accuracy: 0.6750\n",
      "Epoch 23/30\n",
      "5/5 [==============================] - 2s 325ms/step - loss: 0.2795 - accuracy: 0.8813 - val_loss: 0.7494 - val_accuracy: 0.6750\n",
      "Epoch 24/30\n",
      "5/5 [==============================] - 2s 322ms/step - loss: 0.2433 - accuracy: 0.9062 - val_loss: 0.8233 - val_accuracy: 0.6250\n",
      "Epoch 25/30\n",
      "5/5 [==============================] - 2s 325ms/step - loss: 0.1853 - accuracy: 0.9625 - val_loss: 0.8957 - val_accuracy: 0.6250\n",
      "Epoch 26/30\n",
      "5/5 [==============================] - 2s 322ms/step - loss: 0.1624 - accuracy: 0.9500 - val_loss: 0.9004 - val_accuracy: 0.6250\n",
      "Epoch 27/30\n",
      "5/5 [==============================] - 2s 325ms/step - loss: 0.1330 - accuracy: 0.9688 - val_loss: 0.9507 - val_accuracy: 0.6000\n",
      "Epoch 28/30\n",
      "5/5 [==============================] - 2s 327ms/step - loss: 0.0980 - accuracy: 0.9875 - val_loss: 0.9952 - val_accuracy: 0.6500\n",
      "Epoch 29/30\n",
      "5/5 [==============================] - 2s 323ms/step - loss: 0.1116 - accuracy: 0.9750 - val_loss: 0.9438 - val_accuracy: 0.5750\n",
      "Epoch 30/30\n",
      "5/5 [==============================] - 2s 324ms/step - loss: 0.0867 - accuracy: 0.9937 - val_loss: 1.0998 - val_accuracy: 0.5500\n"
     ]
    }
   ],
   "source": [
    "history = model.fit(X_train, y_train, batch_size=32, epochs=30, validation_data=(X_test, y_test))"
   ]
  },
  {
   "cell_type": "markdown",
   "id": "73356e8f",
   "metadata": {},
   "source": [
    "# Plot learning curve for model"
   ]
  },
  {
   "cell_type": "code",
   "execution_count": 6,
   "id": "e9c40498",
   "metadata": {},
   "outputs": [
    {
     "data": {
      "image/png": "[encoded data removed]",
      "text/plain": [
       "<Figure size 640x480 with 1 Axes>"
      ]
     },
     "metadata": {},
     "output_type": "display_data"
    }
   ],
   "source": [
    "# plot learning curve\n",
    "def plot_learning_curve(history):\n",
    "    plt.plot(history.history['accuracy'])\n",
    "    plt.plot(history.history['val_accuracy'])\n",
    "    plt.title('Model accuracy')\n",
    "    plt.ylabel('Accuracy')\n",
    "    plt.xlabel('Epoch')\n",
    "    plt.legend(['Train', 'Test'], loc='upper left')\n",
    "    plt.show()\n",
    "\n",
    "plot_learning_curve(history)"
   ]
  },
  {
   "cell_type": "markdown",
   "id": "c2260c37",
   "metadata": {},
   "source": [
    "# Test  and evaluate the Model"
   ]
  },
  {
   "cell_type": "code",
   "execution_count": 9,
   "id": "ac3d2860",
   "metadata": {},
   "outputs": [
    {
     "name": "stdout",
     "output_type": "stream",
     "text": [
      "2/2 [==============================] - 0s 26ms/step - loss: 1.0998 - accuracy: 0.5500\n",
      "Test accuracy: 0.550000011920929\n",
      "Enter person ID (e.g., 001): 017\n",
      "Enter image path (e.g., C:\\Users\\Vikesh\\Desktop\\Dataset2\\real\\001001_000.png): C:\\Users\\Vikesh\\Desktop\\Dataset2\\forged\\021017_002.png\n",
      "1/1 [==============================] - 0s 28ms/step\n",
      "Accuracy:  [[0.19436146]]\n",
      "Forged\n"
     ]
    }
   ],
   "source": [
    "def predict_signature(model, img_path):\n",
    "    img = io.imread(img_path, as_gray=True)\n",
    "    img = transform.resize(img, (128, 128))\n",
    "    img = np.array(img)\n",
    "    img = img.reshape((1, 128, 128, 1))\n",
    "    prediction = model.predict(img)\n",
    "    print(\"Accuracy: \", prediction)\n",
    "    return prediction[0][0] > 0.5\n",
    "\n",
    "# Test the model with an example\n",
    "# person_id = \"001\"\n",
    "# image_path = \"C:\\\\Users\\\\Vikesh\\\\Desktop\\\\Dataset2\\\\test\\\\001_001_000.png\"\n",
    "# result = predict_signature(model, image_path)\n",
    "# print(\"Genuine\" if result else \"Forged\")\n",
    "\n",
    "# Function to evaluate model's accuracy on test data\n",
    "def evaluate_model_accuracy(model, X_test, y_test):\n",
    "    test_loss, test_accuracy = model.evaluate(X_test, y_test)\n",
    "    print(\"Test accuracy:\", test_accuracy)\n",
    "\n",
    "evaluate_model_accuracy(model, X_test, y_test)\n",
    "\n",
    "# User input for person_id and image_path\n",
    "person_id = input(\"Enter person ID (e.g., 001): \")\n",
    "image_path = input(\"Enter image path (e.g., C:\\\\Users\\\\Vikesh\\\\Desktop\\\\Dataset2\\\\real\\\\001001_000.png): \")\n",
    "\n",
    "# validating person_id and image_path\n",
    "# while True:\n",
    "#     person_id = input(\"Enter person ID (e.g., 001): \")\n",
    "#     if person_id.isdigit() and 1 <= int(person_id) <= 20 and len(person_id) == 3:\n",
    "#         break\n",
    "#     else:\n",
    "#         print(\"Person ID should be a number between 001 to 020.\")\n",
    "\n",
    "# while True:\n",
    "#     image_path = input(\"Enter image path (e.g., C:\\\\Users\\\\Vikesh\\\\Desktop\\\\Dataset2\\\\real\\\\001001_000.png): \")\n",
    "#     if os.path.exists(image_path):\n",
    "#         filename = os.path.basename(image_path)\n",
    "#         parts = filename.split(\"_\")\n",
    "#         if len(parts) == 2:\n",
    "#             yyy = parts[0][-3:]\n",
    "#             zzz = parts[1][:-4]\n",
    "#             if yyy == person_id and zzz.isdigit() and 0 <= int(zzz) <= 4:\n",
    "#                 if \"real\" in image_path or \"forged\" in image_path:\n",
    "#                     if int(person_id) <= 20 and yyy in [\"001\", \"002\", \"003\", \"004\", \"005\", \"006\", \"007\", \"008\", \"009\", \"010\", \"011\", \"012\", \"013\", \"014\", \"015\", \"016\", \"017\", \"018\", \"019\", \"020\", \"021\"]:\n",
    "#                         break\n",
    "                        \n",
    "#     print(\"Image path should be in the format: C:\\\\Users\\\\Vikesh\\\\Desktop\\\\Dataset2\\\\real\\\\XXXYYY_ZZZ.png or C:\\\\Users\\\\Vikesh\\\\Desktop\\\\Dataset2\\\\forged\\\\XXXYYY_ZZZ.png where YYY is same as person ID and ZZZ is 000 to 004 and XXX is 001-021.\")    \n",
    "\n",
    "result = predict_signature(model, image_path)\n",
    "print(\"Genuine\" if result else \"Forged\")"
   ]
  },
  {
   "cell_type": "code",
   "execution_count": null,
   "id": "58219102",
   "metadata": {},
   "outputs": [],
   "source": [
    "C:\\Users\\Vikesh\\Desktop\\Dataset2\\real\\015015_000.png"
   ]
  },
  {
   "cell_type": "code",
   "execution_count": null,
   "id": "0e30bd23",
   "metadata": {},
   "outputs": [],
   "source": [
    "C:\\Users\\Vikesh\\Desktop\\Dataset2\\forged\\021001_002.png"
   ]
  }
 ],
 "metadata": {
  "kernelspec": {
   "display_name": "Python 3 (ipykernel)",
   "language": "python",
   "name": "python3"
  },
  "language_info": {
   "codemirror_mode": {
    "name": "ipython",
    "version": 3
   },
   "file_extension": ".py",
   "mimetype": "text/x-python",
   "name": "python",
   "nbconvert_exporter": "python",
   "pygments_lexer": "ipython3",
   "version": "3.11.2"
  }
 },
 "nbformat": 4,
 "nbformat_minor": 5
}
